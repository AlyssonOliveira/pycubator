{
 "cells": [
  {
   "cell_type": "markdown",
   "metadata": {},
   "source": [
    "# The Standard Library"
   ]
  },
  {
   "cell_type": "markdown",
   "metadata": {},
   "source": [
    "## Files counter\n",
    "Create a command line program that shows information about different file types in a specified folder. For example:\n",
    "\n",
    "    $ python ext_info.py .\n",
    "    png 16 2765632\n",
    "    py 1 2103\n",
    "    pyc 1 608\n",
    "    txt 10 34042\n",
    "    zip 3 4540097\n",
    "\n",
    "In the first example the current folder was checked (by specifying . on the command line as the parameter). 16 files with the \"png\" extension were found, with a total size of 2765632 bytes.\n",
    "\n",
    "Implementation notes:\n",
    "\n",
    "- Subfolders should be ignored.\n",
    "- \"jpg\" and \"JPG\" are considered different extensions.\n",
    "- Files with no extensions should include the '.' extension instead. (This also includes files ending with a dot,    which is possible in linux)\n",
    "- Output should be sorted by extension using string (lexical) order.\n",
    "\n",
    "When no parameter is supplied the following should be displayed:\n",
    "\n",
    "    usage: ext_info.py path\n",
    "    displays number of files and total size of files per extension in the specified path.\n",
    "\n",
    "    (This exercise scope is standard library modules, and not 3rd party packages)"
   ]
  }
 ],
 "metadata": {
  "kernelspec": {
   "display_name": "Python 3",
   "language": "python",
   "name": "python3"
  },
  "language_info": {
   "codemirror_mode": {
    "name": "ipython",
    "version": 3
   },
   "file_extension": ".py",
   "mimetype": "text/x-python",
   "name": "python",
   "nbconvert_exporter": "python",
   "pygments_lexer": "ipython3",
   "version": "3.5.0"
  }
 },
 "nbformat": 4,
 "nbformat_minor": 0
}
