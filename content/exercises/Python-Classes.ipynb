{
 "cells": [
  {
   "cell_type": "markdown",
   "metadata": {},
   "source": [
    "# Python Classes"
   ]
  },
  {
   "cell_type": "markdown",
   "metadata": {},
   "source": [
    "## Car Check\n",
    "\n",
    "Create a `Report` class in `car_check.py` which implements the required methods in the attached scenario. "
   ]
  },
  {
   "cell_type": "code",
   "execution_count": 7,
   "metadata": {
    "collapsed": false
   },
   "outputs": [
    {
     "ename": "ImportError",
     "evalue": "No module named 'car_check'",
     "output_type": "error",
     "traceback": [
      "\u001b[1;31m---------------------------------------------------------------------------\u001b[0m",
      "\u001b[1;31mImportError\u001b[0m                               Traceback (most recent call last)",
      "\u001b[1;32m<ipython-input-7-6bbc70ec5f98>\u001b[0m in \u001b[0;36m<module>\u001b[1;34m()\u001b[0m\n\u001b[0;32m      1\u001b[0m \u001b[1;31m# car_check_scenario.py\u001b[0m\u001b[1;33m\u001b[0m\u001b[1;33m\u001b[0m\u001b[0m\n\u001b[0;32m      2\u001b[0m \u001b[1;33m\u001b[0m\u001b[0m\n\u001b[1;32m----> 3\u001b[1;33m \u001b[1;32mfrom\u001b[0m \u001b[0mcar_check\u001b[0m \u001b[1;32mimport\u001b[0m \u001b[0mReport\u001b[0m\u001b[1;33m\u001b[0m\u001b[0m\n\u001b[0m\u001b[0;32m      4\u001b[0m \u001b[1;33m\u001b[0m\u001b[0m\n\u001b[0;32m      5\u001b[0m \u001b[0mcar1\u001b[0m \u001b[1;33m=\u001b[0m \u001b[0mReport\u001b[0m\u001b[1;33m(\u001b[0m\u001b[1;34m'30-210-18'\u001b[0m\u001b[1;33m)\u001b[0m\u001b[1;33m\u001b[0m\u001b[0m\n",
      "\u001b[1;31mImportError\u001b[0m: No module named 'car_check'"
     ]
    }
   ],
   "source": [
    "# car_check_scenario.py\n",
    "\n",
    "from car_check import Report\n",
    "\n",
    "car1 = Report('30-210-18')\n",
    "\n",
    "car1.add_check('Wheels', True)\n",
    "car1.add_check('Brakes', True)\n",
    "car1.add_check('Lights', False)\n",
    "car1.add_check('Gear', True)\n",
    "\n",
    "assert False == car1.passed()\n",
    "\n",
    "TEST_RESULT = \"\"\"\n",
    "\n",
    "Results for car #30-210-18\n",
    "* Wheels: OK\n",
    "* Brakes: OK\n",
    "* Lights: Failed\n",
    "* Gear: OK\n",
    "NOT PASSED\n",
    "\n",
    "\"\"\".strip()\n",
    "\n",
    "print(car1.render())\n",
    "\n",
    "assert TEST_RESULT == car1.render()"
   ]
  }
 ],
 "metadata": {
  "kernelspec": {
   "display_name": "Python 3",
   "language": "python",
   "name": "python3"
  },
  "language_info": {
   "codemirror_mode": {
    "name": "ipython",
    "version": 3
   },
   "file_extension": ".py",
   "mimetype": "text/x-python",
   "name": "python",
   "nbconvert_exporter": "python",
   "pygments_lexer": "ipython3",
   "version": "3.5.0"
  }
 },
 "nbformat": 4,
 "nbformat_minor": 0
}
