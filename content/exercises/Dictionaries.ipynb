{
 "cells": [
  {
   "cell_type": "markdown",
   "metadata": {},
   "source": [
    "# Dictionaries Exercises"
   ]
  },
  {
   "cell_type": "markdown",
   "metadata": {},
   "source": [
    "## Letter Counter\n",
    "\n",
    "Count the number of letters in a sentence.\n",
    "Implement letter_counter and print its return value - each letter on a separate line.\n",
    "Use a dictionary, keys are lowercase letters, values are the number of times this letter appears in the sentence (as a lowercase or an uppercase letter)"
   ]
  },
  {
   "cell_type": "code",
   "execution_count": null,
   "metadata": {
    "collapsed": false
   },
   "outputs": [],
   "source": [
    "def letter_counter(s):\n",
    "    # --- WRITE YOUR CODE HERE --- #\n",
    "    pass\n",
    "    \n",
    "    \n",
    "result = letter_counter(\"Hello world!!! HELLO!\")\n",
    "print (\"First result:\", result)\n",
    "expected = {'e': 2, 'd': 1, 'h': 2, 'l': 5, 'o': 3, 'r': 1, 'w': 1}\n",
    "assert result == expected"
   ]
  },
  {
   "cell_type": "markdown",
   "metadata": {},
   "source": [
    "## Paint\n",
    "\n",
    "Create a functions that gets a canvas size (width, height) and a list of dictionaries and paints a picture. Each dictionary has the following keys:\n",
    "\n",
    "    start: A tuple of two ints (x,y), where to start painting (0 based)\n",
    "    size: A tuple of two ints (w, h), size of the rectangle\n",
    "    char: used to fill the rectangle\n",
    "\n",
    "The function should return a two dimensional list of characters with the painting:"
   ]
  },
  {
   "cell_type": "code",
   "execution_count": null,
   "metadata": {
    "collapsed": true
   },
   "outputs": [],
   "source": [
    "def paint(width, height, commands):\n",
    "    canvas = [[\" \" for x in range(width)] for y in range(height)]\n",
    "    # WRITE YOUR CODE HERE\n",
    "    return canvas\n",
    "\n",
    "\n",
    "a = paint(20, 20, [\n",
    "    {'char': '1', 'start': (0, 0), 'size': (2, 3)},\n",
    "    {'char': '#', 'start': (3, 5), 'size': (6, 8)},\n",
    "    {'char': '*', 'start': (6, 7), 'size': (8, 4)},\n",
    "    {'char': 'X', 'start': (4, 14), 'size': (10, 3)},\n",
    "    {'char': '9', 'start': (10, 19), 'size': (10, 1)},\n",
    "])\n",
    "\n",
    "#simple printout:\n",
    "#for line in a:\n",
    "#    print \"\".join(line)\n",
    "\n",
    "# add a nice border for fancy printout:\n",
    "top_line = \"-\" * (len(a[0]) + 2)\n",
    "s = \"\\n\".join([top_line] + [\"|{}|\".format(\"\".join(row)) for row in a] + [top_line])\n",
    "\n",
    "print(s)\n",
    "\n",
    "expected = \"\"\"\n",
    "----------------------\n",
    "|11                  |\n",
    "|11                  |\n",
    "|11                  |\n",
    "|                    |\n",
    "|                    |\n",
    "|   ######           |\n",
    "|   ######           |\n",
    "|   ###********      |\n",
    "|   ###********      |\n",
    "|   ###********      |\n",
    "|   ###********      |\n",
    "|   ######           |\n",
    "|   ######           |\n",
    "|                    |\n",
    "|    XXXXXXXXXX      |\n",
    "|    XXXXXXXXXX      |\n",
    "|    XXXXXXXXXX      |\n",
    "|                    |\n",
    "|                    |\n",
    "|          9999999999|\n",
    "----------------------\n",
    "\"\"\".strip()\n",
    "\n",
    "assert expected == s, (s, expected)\n",
    "\n",
    "print(\"OK\")\n"
   ]
  }
 ],
 "metadata": {
  "kernelspec": {
   "display_name": "Python 3",
   "language": "python",
   "name": "python3"
  },
  "language_info": {
   "codemirror_mode": {
    "name": "ipython",
    "version": 3
   },
   "file_extension": ".py",
   "mimetype": "text/x-python",
   "name": "python",
   "nbconvert_exporter": "python",
   "pygments_lexer": "ipython3",
   "version": "3.5.0"
  }
 },
 "nbformat": 4,
 "nbformat_minor": 0
}
