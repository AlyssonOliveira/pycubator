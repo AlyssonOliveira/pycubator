{
 "cells": [
  {
   "cell_type": "markdown",
   "metadata": {},
   "source": [
    "#  Sets vs Lists\n",
    "\n",
    "Create a program that:\n",
    "\n",
    "-    Adds 10,000 distinct random numbers between 1 and 1,000,000 to a list\n",
    "-    Generates 10,000 more random numbers between 1 and 1,000,000 and counts how many of them exists in the list.\n",
    "\n",
    "Do the same thing with a set instead of a list.\n",
    "\n",
    "Which method is faster? Why?\n",
    "\n",
    "To generate a random number use:\n",
    "\n",
    "```python\n",
    "import random\n",
    "print random.randint(1, 1000)\n",
    "```\n",
    "Use `time.time()` to measure how much time this takes:\n",
    "\n",
    "```python\n",
    "import time\n",
    "print time.time()\n",
    "```\n"
   ]
  }
 ],
 "metadata": {
  "kernelspec": {
   "display_name": "Python 3",
   "language": "python",
   "name": "python3"
  },
  "language_info": {
   "codemirror_mode": {
    "name": "ipython",
    "version": 3
   },
   "file_extension": ".py",
   "mimetype": "text/x-python",
   "name": "python",
   "nbconvert_exporter": "python",
   "pygments_lexer": "ipython3",
   "version": "3.5.0"
  }
 },
 "nbformat": 4,
 "nbformat_minor": 0
}
