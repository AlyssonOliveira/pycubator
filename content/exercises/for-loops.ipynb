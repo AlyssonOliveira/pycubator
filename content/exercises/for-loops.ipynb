{
 "cells": [
  {
   "cell_type": "markdown",
   "metadata": {},
   "source": [
    "# For Loops Exercises"
   ]
  },
  {
   "cell_type": "markdown",
   "metadata": {},
   "source": [
    "---\n",
    "## Simple Square\n",
    "\n",
    "Input a number `n`, and print a square of `n*n` asterisks.\n",
    "Input: An integer between 1 and 50\n",
    "\n",
    "Sample Input:\n",
    "\n",
    "    3\n",
    "\n",
    "Sample Output:\n",
    "\n",
    "    ***\n",
    "    ***\n",
    "    ***\n",
    "\n"
   ]
  },
  {
   "cell_type": "markdown",
   "metadata": {},
   "source": [
    "---\n",
    "\n",
    "## Frame\n",
    "\n",
    "Draw a simple frame\n",
    "Input: An integer between `2` and `100`\n",
    "Sample Input:\n",
    "    \n",
    "    5\n",
    "\n",
    "Sample Output:\n",
    "\n",
    "    *****\n",
    "    *   *\n",
    "    *   *\n",
    "    *   *\n",
    "    *****\n",
    "\n",
    "Sample Input:\n",
    "\n",
    "    2\n",
    "\n",
    "Sample Output:\n",
    "\n",
    "    **\n",
    "    **"
   ]
  },
  {
   "cell_type": "markdown",
   "metadata": {},
   "source": [
    "---\n",
    "\n",
    "## Bulid a Pyramid!\n",
    "\n",
    "Input: An integer between 1 and 20 \n",
    "\n",
    "Sample Input:\n",
    "\n",
    "    5\n",
    "\n",
    "Sample Output:\n",
    "\n",
    "        *\n",
    "       ***\n",
    "      *****\n",
    "     *******\n",
    "    *********\n",
    "\n",
    "Sample Input:\n",
    "\n",
    "    1\n",
    "\n",
    "Sample Output:\n",
    "\n",
    "    *\n",
    "\n"
   ]
  },
  {
   "cell_type": "markdown",
   "metadata": {},
   "source": [
    "---\n",
    "## Draw a diamond\n",
    "\n",
    "Input: An integer between 1 and 20 Sample Input:\n",
    "\n",
    "    4\n",
    "\n",
    "Sample Output:\n",
    "\n",
    "       *\n",
    "      ***\n",
    "     *****\n",
    "    *******\n",
    "     *****\n",
    "      ***\n",
    "       *\n",
    "\n",
    "Sample Input:\n",
    "\n",
    "    7\n",
    "\n",
    "Sample Output:\n",
    "\n",
    "          *\n",
    "         ***\n",
    "        *****\n",
    "       *******\n",
    "      *********\n",
    "     ***********\n",
    "    *************\n",
    "     ***********\n",
    "      *********\n",
    "       *******\n",
    "        *****\n",
    "         ***\n",
    "          *\n",
    "\n",
    "Sample Input:\n",
    "\n",
    "    1\n",
    "\n",
    "Sample Output:\n",
    "\n",
    "    *\n"
   ]
  }
 ],
 "metadata": {
  "kernelspec": {
   "display_name": "Python 3",
   "language": "python",
   "name": "python3"
  },
  "language_info": {
   "codemirror_mode": {
    "name": "ipython",
    "version": 3
   },
   "file_extension": ".py",
   "mimetype": "text/x-python",
   "name": "python",
   "nbconvert_exporter": "python",
   "pygments_lexer": "ipython3",
   "version": "3.5.0"
  }
 },
 "nbformat": 4,
 "nbformat_minor": 0
}
