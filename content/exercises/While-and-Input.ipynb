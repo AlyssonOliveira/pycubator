{
 "cells": [
  {
   "cell_type": "markdown",
   "metadata": {},
   "source": [
    "# While and Input\n",
    "Exercises to parctice the `while` loop and `input` (remember in python2 we will use `raw_input`)"
   ]
  },
  {
   "cell_type": "markdown",
   "metadata": {},
   "source": [
    "---\n",
    "\n",
    "## Sum of numbers\n",
    "\n",
    "Ask the user to enter numbers.  \n",
    "Whenever the user enters an empty answer, show the sum of all entered numbers and quit.\n",
    "\n",
    "    > 10\n",
    "    > 45\n",
    "    > 20\n",
    "    > 90\n",
    "    >\n",
    "    Result: 165"
   ]
  },
  {
   "cell_type": "markdown",
   "metadata": {},
   "source": [
    "---\n",
    "\n",
    "## Guessing game - part 1\n",
    "\n",
    "Create a multiplayer game!!\n",
    "\n",
    "- Player 2 looks to the other direction, while player 1 enters a secret number between 1 and 100.\n",
    "- The screen is cleared. (Print a lot of blank lines with \"\\n\" * 100)\n",
    "- Player 2 returns and tries to guess the number. The computer might say Your guess is correct! and the game is done.\n",
    "- Otherwise print Your guess is too high! or Your guess is too low! and ask again.\n",
    "\n"
   ]
  },
  {
   "cell_type": "markdown",
   "metadata": {},
   "source": [
    "---\n",
    "\n",
    "## Guessing game - part 2\n",
    "\n",
    "Play against your PC! This time your computer has to guess your secret number.\n",
    "\n",
    "- Choose a secret number between 1 and 100, but don't tell it to the computer!\n",
    "- The computer will try to guess:\n",
    "    \n",
    "        Is your number <the computer's guess>?\n",
    "\n",
    "- If you answer with `y` the game ends. Otherwise, the computer asks:\n",
    "\n",
    "        Is my guess higher than the secret number?\n",
    "\n",
    "- and you answer with y or n.\n",
    "- The computer asks again until she finds your number!\n",
    "\n",
    "Tips:\n",
    "\n",
    "- The computer should remember the range of suspected numbers.\n",
    "- The computer can guess the number in the middle of the range in order to split it to two smaller ranges."
   ]
  }
 ],
 "metadata": {
  "kernelspec": {
   "display_name": "Python 3",
   "language": "python",
   "name": "python3"
  },
  "language_info": {
   "codemirror_mode": {
    "name": "ipython",
    "version": 3
   },
   "file_extension": ".py",
   "mimetype": "text/x-python",
   "name": "python",
   "nbconvert_exporter": "python",
   "pygments_lexer": "ipython3",
   "version": "3.5.0"
  }
 },
 "nbformat": 4,
 "nbformat_minor": 0
}
