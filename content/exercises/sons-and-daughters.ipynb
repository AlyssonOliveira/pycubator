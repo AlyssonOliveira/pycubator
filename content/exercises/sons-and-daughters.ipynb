{
 "cells": [
  {
   "cell_type": "markdown",
   "metadata": {},
   "source": [
    "# Sons and daughters (string formating)\n",
    "\n",
    "## Part 1\n",
    "Write a short program that uses the following pieces of information:\n",
    "\n",
    "- The name of a man,\n",
    "- The number of sons he has\n",
    "- The number of daughters he has\n",
    "\n",
    "And prints out his name (capitalized) and his total number of kids.\n",
    "\n",
    "Use the following code snippet:"
   ]
  },
  {
   "cell_type": "code",
   "execution_count": 3,
   "metadata": {
    "collapsed": true
   },
   "outputs": [
    {
     "name": "stdout",
     "output_type": "stream",
     "text": [
      "\n"
     ]
    },
    {
     "ename": "AssertionError",
     "evalue": "",
     "output_type": "error",
     "traceback": [
      "\u001b[1;31m---------------------------------------------------------------------------\u001b[0m",
      "\u001b[1;31mAssertionError\u001b[0m                            Traceback (most recent call last)",
      "\u001b[1;32m<ipython-input-3-ffb9043a2ae4>\u001b[0m in \u001b[0;36m<module>\u001b[1;34m()\u001b[0m\n\u001b[0;32m     10\u001b[0m \u001b[1;33m\u001b[0m\u001b[0m\n\u001b[0;32m     11\u001b[0m \u001b[0mprint\u001b[0m\u001b[1;33m(\u001b[0m\u001b[0ms\u001b[0m\u001b[1;33m)\u001b[0m\u001b[1;33m\u001b[0m\u001b[0m\n\u001b[1;32m---> 12\u001b[1;33m \u001b[1;32massert\u001b[0m \u001b[0ms\u001b[0m \u001b[1;33m==\u001b[0m \u001b[1;34m\"Joe has 5 kids.\"\u001b[0m\u001b[1;33m\u001b[0m\u001b[0m\n\u001b[0m",
      "\u001b[1;31mAssertionError\u001b[0m: "
     ]
    }
   ],
   "source": [
    "# father1.py\n",
    "\n",
    "name = \"joe\"\n",
    "sons = 2\n",
    "daughters = 3\n",
    "\n",
    "# ----- ENTER YOUR CODE HERE --------\n",
    "s = \"\"\n",
    "# -----------------------------------\n",
    "\n",
    "print(s)\n",
    "assert s == \"Joe has 5 kids.\""
   ]
  },
  {
   "cell_type": "markdown",
   "metadata": {},
   "source": [
    "## Part 2\n",
    "Use the code from the previous exercise and raw_input(), to write a short program that asks the user the following questions:\n",
    "\n",
    "What is the name of the father?\n",
    "How many sons he has?\n",
    "How many daughters he has?\n",
    "\n",
    "And prints out the answer.\n",
    "\n",
    "For example:\n",
    "\n",
    "    What is the name of the father? \n",
    "    > joe\n",
    "    How many sons does he have?\n",
    "    > 2\n",
    "    How many daughters does he have?\n",
    "    > 3\n",
    "    Joe has 5 kids.\n",
    "    "
   ]
  }
 ],
 "metadata": {
  "kernelspec": {
   "display_name": "Python 3",
   "language": "python",
   "name": "python3"
  },
  "language_info": {
   "codemirror_mode": {
    "name": "ipython",
    "version": 3
   },
   "file_extension": ".py",
   "mimetype": "text/x-python",
   "name": "python",
   "nbconvert_exporter": "python",
   "pygments_lexer": "ipython3",
   "version": "3.5.0"
  }
 },
 "nbformat": 4,
 "nbformat_minor": 0
}
