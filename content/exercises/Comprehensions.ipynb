{
 "cells": [
  {
   "cell_type": "markdown",
   "metadata": {},
   "source": [
    "# Comprehensions"
   ]
  },
  {
   "cell_type": "markdown",
   "metadata": {},
   "source": [
    ".split() and .join() examples:\n",
    "\n",
    "```python\n",
    "'hello world'.split()  # -> ['hello', 'world']\n",
    "' '.join(['hello', 'world'])  # -> 'hello world'\n",
    "'<br >'.join(['first line', 'second line'])  # -> 'first line<br >second line'\n",
    "```"
   ]
  },
  {
   "cell_type": "markdown",
   "metadata": {},
   "source": [
    "## Funny Reverse\n",
    "\n",
    "Using list comprehension, join() and split(), create a function that does this:"
   ]
  },
  {
   "cell_type": "code",
   "execution_count": null,
   "metadata": {
    "collapsed": false
   },
   "outputs": [],
   "source": [
    "def funny(s):\n",
    "    # === YOUR CODE HERE! ===\n",
    "    pass\n",
    "\n",
    "result = funny(\"Foo bar\")\n",
    "print(result)\n",
    "assert result == \"Oof Rab\"\n",
    "\n",
    "result = funny(\"The quick brown fox\")\n",
    "print(result)\n",
    "assert result == \"Eht Kciuq Nworb Xof\"\n",
    "\n",
    "print('OK')"
   ]
  },
  {
   "cell_type": "markdown",
   "metadata": {},
   "source": [
    "## Sentence Statistics\n",
    "\n",
    "Create a function that returns a list with the number of letters in each word in the provided sentence:"
   ]
  },
  {
   "cell_type": "code",
   "execution_count": null,
   "metadata": {
    "collapsed": false
   },
   "outputs": [],
   "source": [
    "def word_lengths(s):\n",
    "    # ==== YOUR CODE HERE ===\n",
    "    pass\n",
    "\n",
    "\n",
    "result = word_lengths(\"Contrary to popular belief Lorem Ipsum is not simply random text\")\n",
    "print('Result:', result)\n",
    "assert result == [8, 2, 7, 6, 5, 5, 2, 3, 6, 6, 4] \n",
    "print('OK')"
   ]
  },
  {
   "cell_type": "markdown",
   "metadata": {},
   "source": [
    "Now create a function that returns the length of the longest word in the provided sentence:"
   ]
  },
  {
   "cell_type": "code",
   "execution_count": null,
   "metadata": {
    "collapsed": false
   },
   "outputs": [],
   "source": [
    "def max_word_length(s):\n",
    "    # ==== YOUR CODE HERE ===\n",
    "    pass\n",
    "    \n",
    "result = max_word_length(\"Contrary to popular belief Lorem Ipsum is not simply random text\")\n",
    "print('Result:', result)\n",
    "assert result == 8\n",
    "print('OK')"
   ]
  }
 ],
 "metadata": {
  "kernelspec": {
   "display_name": "Python 3",
   "language": "python",
   "name": "python3"
  },
  "language_info": {
   "codemirror_mode": {
    "name": "ipython",
    "version": 3
   },
   "file_extension": ".py",
   "mimetype": "text/x-python",
   "name": "python",
   "nbconvert_exporter": "python",
   "pygments_lexer": "ipython3",
   "version": "3.5.0"
  }
 },
 "nbformat": 4,
 "nbformat_minor": 0
}
