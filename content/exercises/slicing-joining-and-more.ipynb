{
 "cells": [
  {
   "cell_type": "markdown",
   "metadata": {},
   "source": [
    "# Slicing joining and more!"
   ]
  },
  {
   "cell_type": "markdown",
   "metadata": {},
   "source": [
    "---\n",
    "## Rotate a word\n",
    "\n",
    "Create a function that rotates a word by 1 character to the right:\n",
    "\n",
    "```python\n",
    "def rotate(s):\n",
    "    # ---- YOUR CODE HERE ---\n",
    "    return \"something\"\n",
    "    # -----------------------\n",
    "\n",
    "assert \"dabc\" == rotate(\"abcd\")\n",
    "assert \"hello world\" == rotate(\"ello worldh\")\n",
    "assert \"x\" == rotate(\"x\")\n",
    "```"
   ]
  },
  {
   "cell_type": "markdown",
   "metadata": {},
   "source": [
    "---\n",
    "## Nachmanize\n",
    "\n",
    "Create a function that returns a string [nachmanized] [nachmanized]:\n",
    "\n",
    "```python\n",
    "assert nachmannize(\"abcd\") == \"a ab abc abcd\"\n",
    "```\n",
    "\n",
    "[nachmanized]: https://en.wikipedia.org/wiki/Na_Nach_Nachma_Nachman_Meuman"
   ]
  },
  {
   "cell_type": "markdown",
   "metadata": {},
   "source": [
    "---\n",
    "## Check Password Strength\n",
    "\n",
    "Create a function that checks whatever a supplied password is strong enough.\n",
    "\n",
    "Password must:\n",
    "- Be at least 8 characters\n",
    "- Include at least one uppercase letter\n",
    "- Include at least one lowercase letter\n",
    "- Include at least one digit\n",
    "- Include at least one special character: `.,!,$,-,?,+, *,_`\n",
    "- Not include spaces or tabs\n",
    "\n",
    "Boilerplate code:\n",
    "\n",
    "```python\n",
    "def is_strong_password(s):\n",
    "    return True\n",
    "```"
   ]
  }
 ],
 "metadata": {
  "kernelspec": {
   "display_name": "Python 3",
   "language": "python",
   "name": "python3"
  },
  "language_info": {
   "codemirror_mode": {
    "name": "ipython",
    "version": 3
   },
   "file_extension": ".py",
   "mimetype": "text/x-python",
   "name": "python",
   "nbconvert_exporter": "python",
   "pygments_lexer": "ipython3",
   "version": "3.5.0"
  }
 },
 "nbformat": 4,
 "nbformat_minor": 0
}
