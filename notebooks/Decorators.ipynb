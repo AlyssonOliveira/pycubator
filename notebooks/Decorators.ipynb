{
 "cells": [
  {
   "cell_type": "markdown",
   "metadata": {},
   "source": [
    "# Decorators"
   ]
  },
  {
   "cell_type": "markdown",
   "metadata": {},
   "source": [
    "## Functions in functions"
   ]
  },
  {
   "cell_type": "markdown",
   "metadata": {},
   "source": [
    "Functions defined inside other functions are local, but can get read only access the outer function's variables."
   ]
  },
  {
   "cell_type": "code",
   "execution_count": 1,
   "metadata": {
    "collapsed": false
   },
   "outputs": [
    {
     "name": "stdout",
     "output_type": "stream",
     "text": [
      "shalom\n"
     ]
    }
   ],
   "source": [
    "def outer():\n",
    "    s = \"shalom\"\n",
    "\n",
    "    def inner():\n",
    "        print(s)\n",
    "\n",
    "\n",
    "    inner()\n",
    "\n",
    "outer()"
   ]
  },
  {
   "cell_type": "markdown",
   "metadata": {},
   "source": [
    "The variable can be defined anywhere in the containing function (why?):"
   ]
  },
  {
   "cell_type": "code",
   "execution_count": 3,
   "metadata": {
    "collapsed": false
   },
   "outputs": [
    {
     "ename": "NameError",
     "evalue": "free variable 's' referenced before assignment in enclosing scope",
     "output_type": "error",
     "traceback": [
      "\u001b[1;31m---------------------------------------------------------------------------\u001b[0m",
      "\u001b[1;31mNameError\u001b[0m                                 Traceback (most recent call last)",
      "\u001b[1;32m<ipython-input-3-959d06f5aad7>\u001b[0m in \u001b[0;36m<module>\u001b[1;34m()\u001b[0m\n\u001b[0;32m      8\u001b[0m \u001b[1;33m\u001b[0m\u001b[0m\n\u001b[0;32m      9\u001b[0m \u001b[1;33m\u001b[0m\u001b[0m\n\u001b[1;32m---> 10\u001b[1;33m \u001b[0mouter2\u001b[0m\u001b[1;33m(\u001b[0m\u001b[1;33m)\u001b[0m\u001b[1;33m\u001b[0m\u001b[0m\n\u001b[0m",
      "\u001b[1;32m<ipython-input-3-959d06f5aad7>\u001b[0m in \u001b[0;36mouter2\u001b[1;34m()\u001b[0m\n\u001b[0;32m      4\u001b[0m \u001b[1;33m\u001b[0m\u001b[0m\n\u001b[0;32m      5\u001b[0m \u001b[1;33m\u001b[0m\u001b[0m\n\u001b[1;32m----> 6\u001b[1;33m     \u001b[0minner\u001b[0m\u001b[1;33m(\u001b[0m\u001b[1;33m)\u001b[0m\u001b[1;33m\u001b[0m\u001b[0m\n\u001b[0m\u001b[0;32m      7\u001b[0m     \u001b[0ms\u001b[0m \u001b[1;33m=\u001b[0m \u001b[1;34m\"same same\"\u001b[0m\u001b[1;33m\u001b[0m\u001b[0m\n\u001b[0;32m      8\u001b[0m \u001b[1;33m\u001b[0m\u001b[0m\n",
      "\u001b[1;32m<ipython-input-3-959d06f5aad7>\u001b[0m in \u001b[0;36minner\u001b[1;34m()\u001b[0m\n\u001b[0;32m      1\u001b[0m \u001b[1;32mdef\u001b[0m \u001b[0mouter2\u001b[0m\u001b[1;33m(\u001b[0m\u001b[1;33m)\u001b[0m\u001b[1;33m:\u001b[0m\u001b[1;33m\u001b[0m\u001b[0m\n\u001b[0;32m      2\u001b[0m     \u001b[1;32mdef\u001b[0m \u001b[0minner\u001b[0m\u001b[1;33m(\u001b[0m\u001b[1;33m)\u001b[0m\u001b[1;33m:\u001b[0m\u001b[1;33m\u001b[0m\u001b[0m\n\u001b[1;32m----> 3\u001b[1;33m         \u001b[0mprint\u001b[0m\u001b[1;33m(\u001b[0m\u001b[0ms\u001b[0m\u001b[1;33m)\u001b[0m\u001b[1;33m\u001b[0m\u001b[0m\n\u001b[0m\u001b[0;32m      4\u001b[0m \u001b[1;33m\u001b[0m\u001b[0m\n\u001b[0;32m      5\u001b[0m \u001b[1;33m\u001b[0m\u001b[0m\n",
      "\u001b[1;31mNameError\u001b[0m: free variable 's' referenced before assignment in enclosing scope"
     ]
    }
   ],
   "source": [
    "def outer2():\n",
    "    def inner():\n",
    "        print(s)\n",
    "\n",
    "    \n",
    "    inner()\n",
    "    s = \"same same\"\n",
    "\n",
    "\n",
    "outer2()"
   ]
  },
  {
   "cell_type": "markdown",
   "metadata": {},
   "source": [
    "Parameters are OK too:"
   ]
  },
  {
   "cell_type": "code",
   "execution_count": 4,
   "metadata": {
    "collapsed": false
   },
   "outputs": [
    {
     "name": "stdout",
     "output_type": "stream",
     "text": [
      "hello\n"
     ]
    }
   ],
   "source": [
    "def better_outer(s):\n",
    "    def inner():\n",
    "        print(s)\n",
    "\n",
    "    inner()\n",
    "\n",
    "\n",
    "better_outer(\"hello\")"
   ]
  },
  {
   "cell_type": "markdown",
   "metadata": {},
   "source": [
    "### Practice\n",
    "Make the following code work. Output should be:  \n",
    "1  \n",
    "2  "
   ]
  },
  {
   "cell_type": "code",
   "execution_count": 11,
   "metadata": {
    "collapsed": false
   },
   "outputs": [
    {
     "name": "stdout",
     "output_type": "stream",
     "text": [
      "1\n",
      "2\n",
      "2\n"
     ]
    }
   ],
   "source": [
    "def outer():\n",
    "    i = 1\n",
    "\n",
    "    def inner():\n",
    "        nonlocal i\n",
    "        i += 1\n",
    "        print(i)\n",
    "    \n",
    "    print(i)\n",
    "    inner()\n",
    "    print(i)\n",
    "\n",
    "outer()"
   ]
  },
  {
   "cell_type": "markdown",
   "metadata": {},
   "source": [
    "## Closure"
   ]
  },
  {
   "cell_type": "markdown",
   "metadata": {},
   "source": [
    "<http://en.wikipedia.org/wiki/Closure_(computer_programming)>\n",
    "\n",
    ">In programming languages, a closure ... is a function ... together with a referencing environment—a table storing a reference to each of the non-local variables (also called free variables ...) of that function. A closure—unlike a plain function pointer—allows a function to access those non-local variables even when invoked outside its immediate lexical scope."
   ]
  },
  {
   "cell_type": "code",
   "execution_count": 14,
   "metadata": {
    "collapsed": false
   },
   "outputs": [
    {
     "name": "stdout",
     "output_type": "stream",
     "text": [
      "3\n",
      "3\n"
     ]
    }
   ],
   "source": [
    "def make_a_closure():\n",
    "    i = 3\n",
    "\n",
    "    def print_i():\n",
    "        print(i)\n",
    "    \n",
    "    return print_i\n",
    "\n",
    "\n",
    "f = make_a_closure()\n",
    "f()"
   ]
  },
  {
   "cell_type": "markdown",
   "metadata": {},
   "source": [
    "### Practice\n",
    "Create a function that creates power functions like so:\n",
    "```python\n",
    ">>> pow5 = create_pow(5)\n",
    ">>> pow5(2)\n",
    "32\n",
    "```"
   ]
  },
  {
   "cell_type": "code",
   "execution_count": 17,
   "metadata": {
    "collapsed": false
   },
   "outputs": [
    {
     "name": "stdout",
     "output_type": "stream",
     "text": [
      "32\n",
      "256\n"
     ]
    }
   ],
   "source": [
    "def create_pow(power):\n",
    "    def inner(base):\n",
    "        print(base**power)\n",
    "    return inner\n",
    "\n",
    "pow5 = create_pow(5)\n",
    "pow5(2)\n",
    "\n",
    "pow8 = create_pow(8)\n",
    "pow8(2)"
   ]
  },
  {
   "cell_type": "markdown",
   "metadata": {},
   "source": [
    "## Decorators"
   ]
  },
  {
   "cell_type": "code",
   "execution_count": 18,
   "metadata": {
    "collapsed": false
   },
   "outputs": [
    {
     "name": "stdout",
     "output_type": "stream",
     "text": [
      "2015-07-19 13:06:42.133583\n",
      "foo\n"
     ]
    }
   ],
   "source": [
    "from datetime import datetime\n",
    "\n",
    "def foo():\n",
    "    print('foo')\n",
    "\n",
    "def timestamp_foo():\n",
    "    print(datetime.now())\n",
    "    foo()\n",
    "\n",
    "timestamp_foo()"
   ]
  },
  {
   "cell_type": "code",
   "execution_count": 19,
   "metadata": {
    "collapsed": false
   },
   "outputs": [
    {
     "name": "stdout",
     "output_type": "stream",
     "text": [
      "2015-07-19 13:07:08.349591\n",
      "bar\n"
     ]
    }
   ],
   "source": [
    "def bar():\n",
    "    print('bar')\n",
    "\n",
    "def timestamp_bar():\n",
    "    print(datetime.now())\n",
    "    bar()\n",
    "\n",
    "timestamp_bar()"
   ]
  },
  {
   "cell_type": "code",
   "execution_count": 23,
   "metadata": {
    "collapsed": false
   },
   "outputs": [
    {
     "name": "stdout",
     "output_type": "stream",
     "text": [
      "bar\n",
      "2015-07-19 13:16:11.013473\n",
      "2015-07-19 13:16:11.013638\n",
      "foo\n",
      "2015-07-19 13:16:11.013674\n"
     ]
    }
   ],
   "source": [
    "def timestamp(f):\n",
    "    def timestamped_func():\n",
    "        f() \n",
    "        print(datetime.now())\n",
    "        \n",
    "        \n",
    "    return timestamped_func\n",
    "\n",
    "timestamp_bar = timestamp(bar)\n",
    "timestamp_bar()\n",
    "\n",
    "timestamp_foo = timestamp(foo)\n",
    "timestamp_foo ()"
   ]
  },
  {
   "cell_type": "code",
   "execution_count": 21,
   "metadata": {
    "collapsed": false,
    "scrolled": true
   },
   "outputs": [
    {
     "name": "stdout",
     "output_type": "stream",
     "text": [
      "2015-07-19 13:15:07.411696\n",
      "Baz\n",
      "2015-07-19 13:15:07.411821\n",
      "foo\n"
     ]
    }
   ],
   "source": [
    "@timestamp\n",
    "def baz():\n",
    "    print(\"Baz\")\n",
    "\n",
    "\n",
    "@timestamp\n",
    "def foo():\n",
    "    print('foo')\n",
    "\n",
    "baz()\n",
    "foo()"
   ]
  },
  {
   "cell_type": "markdown",
   "metadata": {},
   "source": [
    "### Practice\n",
    "\n",
    "Create a decorator called profile that logs the time it took to run the decorated function with `logging.debug`. Example:\n",
    "```python\n",
    "@profile\n",
    "def foo():\n",
    "    sleep(2)\n",
    "    \n",
    ">>> foo()\n",
    "foo timed 2.1 seconds\n",
    "```\n"
   ]
  },
  {
   "cell_type": "markdown",
   "metadata": {},
   "source": [
    "### More complex example\n",
    "decorator style memoization "
   ]
  },
  {
   "cell_type": "code",
   "execution_count": 33,
   "metadata": {
    "collapsed": true
   },
   "outputs": [],
   "source": [
    "from time import sleep\n",
    "\n",
    "def memoize(f):\n",
    "    \"\"\" Memoization decorator for functions taking one or more arguments. \"\"\"\n",
    "    class memodict(dict):\n",
    "        def __init__(self, f):\n",
    "            self.f = f\n",
    "        def __call__(self, *args):\n",
    "            return self[args]\n",
    "        def __missing__(self, key):\n",
    "            ret = self[key] = self.f(*key)\n",
    "            return ret\n",
    "    return memodict(f)\n",
    "\n",
    "@memoize\n",
    "def complicated_computation(x):\n",
    "    sleep(x)"
   ]
  },
  {
   "cell_type": "code",
   "execution_count": 31,
   "metadata": {
    "collapsed": true
   },
   "outputs": [],
   "source": [
    "complicated_computation(3)"
   ]
  },
  {
   "cell_type": "code",
   "execution_count": 32,
   "metadata": {
    "collapsed": true
   },
   "outputs": [],
   "source": [
    "complicated_computation(3)"
   ]
  },
  {
   "cell_type": "markdown",
   "metadata": {},
   "source": [
    "### More practice!\n",
    "Write a decorator which wraps functions to log function arguments and the return value on each call. Provide support for both positional and named arguments (your wrapper function should take both `*args`\n",
    "and `**kwargs` and print them both):\n",
    "```python\n",
    ">>> @logged\n",
    "    def func(*args):\n",
    "        return 3 + len(args)\n",
    "\n",
    ">>> func(4, 4, 4)\n",
    "you called func(4, 4, 4)\n",
    "it returned 6\n",
    "6\n",
    "```"
   ]
  }
 ],
 "metadata": {
  "kernelspec": {
   "display_name": "Python 3",
   "language": "python",
   "name": "python3"
  },
  "language_info": {
   "codemirror_mode": {
    "name": "ipython",
    "version": 3
   },
   "file_extension": ".py",
   "mimetype": "text/x-python",
   "name": "python",
   "nbconvert_exporter": "python",
   "pygments_lexer": "ipython3",
   "version": "3.4.0"
  }
 },
 "nbformat": 4,
 "nbformat_minor": 0
}
