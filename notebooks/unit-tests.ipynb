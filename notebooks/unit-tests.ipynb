{
 "cells": [
  {
   "cell_type": "markdown",
   "metadata": {},
   "source": [
    "# UNIT TESTS"
   ]
  },
  {
   "cell_type": "code",
   "execution_count": 21,
   "metadata": {
    "collapsed": false
   },
   "outputs": [
    {
     "name": "stderr",
     "output_type": "stream",
     "text": [
      "test_choice (__main__.TestSequenceFunctions) ... ok\n",
      "test_sample (__main__.TestSequenceFunctions) ... ok\n",
      "test_shuffle (__main__.TestSequenceFunctions) ... ok\n",
      "\n",
      "----------------------------------------------------------------------\n",
      "Ran 3 tests in 0.005s\n",
      "\n",
      "OK\n"
     ]
    }
   ],
   "source": [
    "import random\n",
    "import unittest\n",
    "\n",
    "class TestSequenceFunctions(unittest.TestCase):\n",
    "\n",
    "    def setUp(self):\n",
    "        self.seq = list(range(10))\n",
    "\n",
    "    def test_shuffle(self):\n",
    "        # make sure the shuffled sequence does not lose any elements\n",
    "        random.shuffle(self.seq)\n",
    "        self.seq.sort()\n",
    "        self.assertEqual(self.seq, list(range(10)))\n",
    "\n",
    "        # should raise an exception for an immutable sequence\n",
    "        self.assertRaises(TypeError, random.shuffle, (1,2,3))\n",
    "\n",
    "    def test_choice(self):\n",
    "        element = random.choice(self.seq)\n",
    "        self.assertTrue(element in self.seq)\n",
    "\n",
    "    def test_sample(self):\n",
    "        with self.assertRaises(ValueError):\n",
    "            random.sample(self.seq, 20)\n",
    "        for element in random.sample(self.seq, 5):\n",
    "            self.assertTrue(element in self.seq)\n",
    "            \n",
    "if __name__ == '__main__':\n",
    "    # This is how you run it from a regular file\n",
    "    # unittest.main()\n",
    "    \n",
    "    # A workaround to run through IPython notebook            \n",
    "    suite = unittest.defaultTestLoader.loadTestsFromTestCase(TestSequenceFunctions)\n",
    "    unittest.TextTestRunner(verbosity=2).run(suite)"
   ]
  },
  {
   "cell_type": "markdown",
   "metadata": {},
   "source": [
    "## Hangman TDD"
   ]
  },
  {
   "cell_type": "markdown",
   "metadata": {},
   "source": [
    "### Part 1\n",
    "Create a class based hangman game with unittest!\n",
    "\n",
    "```python\n",
    ">> game = Hangman(\"hello\", 10)  # \"hello\" is the secret word, there are 10 tries  \n",
    ">> print(game.status())  \n",
    "????? \n",
    "```\n",
    "\n",
    "Start from writing a test to validate that the length of game.status() must be equal to the length of the secret word but replaced with question marks. Only after writing the tests start to implement the Hangman class. Run the test until it passed.\n",
    "\n",
    "hangman_tests.py:\n",
    "```python\n",
    "import unittest\n",
    "from hangman import Hangman\n",
    "\n",
    "class TestHangman(unittest.TestCase):\n",
    "    # ----- ENTER SOME CODE HERE --------\n",
    "    pass\n",
    "    # -----------------------------------\n",
    "\n",
    "if __name__ == '__main__':\n",
    "    unittest.main()\n",
    "``` \n",
    "\n",
    "hangman_tests.py:\n",
    "```python\n",
    "import unittest\n",
    "from hangman import Hangman\n",
    "\n",
    "class TestHangman(unittest.TestCase):\n",
    "    # ----- ENTER SOME CODE HERE --------\n",
    "    pass\n",
    "    # -----------------------------------\n",
    "\n",
    "if __name__ == '__main__':\n",
    "    unittest.main()\n",
    "```"
   ]
  },
  {
   "cell_type": "markdown",
   "metadata": {},
   "source": [
    "### Part 2\n",
    "Create a test that guesses one letter from the hangman using the guess() method and checks how it effects the status() method.\n",
    "\n",
    "```python\n",
    ">>> game = Hangman(\"hello\", 10)\n",
    ">>> print game.status()\n",
    "?????\n",
    ">>> game.guess('h')\n",
    "1\n",
    ">>> print game.status()\n",
    "h????\n",
    "\n",
    ">>> game2 = Hangman(\"goodbye\", 10)\n",
    ">>> print game2.status()\n",
    "???????\n",
    ">>> game2.guess('h')\n",
    "0\n",
    ">>> print game2.status()\n",
    "???????\n",
    "```\n",
    "\n",
    "Try these scenarios:\n",
    "\n",
    "- test_bad_guess: user tries to guess a letter that does not exist in the word\n",
    "- test_good_guess: user tries to guess a letter that exists in the word\n",
    "- test_multiple_guess: user tries to guess a letter that exists more than once in the word"
   ]
  },
  {
   "cell_type": "code",
   "execution_count": 24,
   "metadata": {
    "collapsed": false
   },
   "outputs": [
    {
     "data": {
      "text/plain": [
       "True"
      ]
     },
     "execution_count": 24,
     "metadata": {},
     "output_type": "execute_result"
    }
   ],
   "source": [
    "True"
   ]
  }
 ],
 "metadata": {
  "kernelspec": {
   "display_name": "Python 3",
   "language": "python",
   "name": "python3"
  },
  "language_info": {
   "codemirror_mode": {
    "name": "ipython",
    "version": 3
   },
   "file_extension": ".py",
   "mimetype": "text/x-python",
   "name": "python",
   "nbconvert_exporter": "python",
   "pygments_lexer": "ipython3",
   "version": "3.4.3"
  }
 },
 "nbformat": 4,
 "nbformat_minor": 0
}
