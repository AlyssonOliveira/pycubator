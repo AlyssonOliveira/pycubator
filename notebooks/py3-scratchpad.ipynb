{
 "cells": [
  {
   "cell_type": "code",
   "execution_count": 1,
   "metadata": {
    "collapsed": false,
    "slideshow": {
     "slide_type": "subslide"
    }
   },
   "outputs": [
    {
     "name": "stdout",
     "output_type": "stream",
     "text": [
      "make my day\n"
     ]
    }
   ],
   "source": [
    "def func(arg1, named1, named2):\n",
    "    print(arg1, named1, named2)\n",
    "\n",
    "func('make', named2='day', named1='my')\n"
   ]
  },
  {
   "cell_type": "code",
   "execution_count": 55,
   "metadata": {
    "collapsed": false
   },
   "outputs": [
    {
     "data": {
      "text/plain": [
       "[3, 2, 1]"
      ]
     },
     "execution_count": 55,
     "metadata": {},
     "output_type": "execute_result"
    }
   ],
   "source": [
    "l=[1,2,3]\n",
    "l.reverse()\n",
    "l"
   ]
  },
  {
   "cell_type": "code",
   "execution_count": 4,
   "metadata": {
    "collapsed": false
   },
   "outputs": [
    {
     "data": {
      "text/plain": [
       "[2, 3, 4]"
      ]
     },
     "execution_count": 4,
     "metadata": {},
     "output_type": "execute_result"
    }
   ],
   "source": [
    "a, *args = range(1,5)\n",
    "args"
   ]
  },
  {
   "cell_type": "code",
   "execution_count": 5,
   "metadata": {
    "collapsed": false
   },
   "outputs": [
    {
     "name": "stdout",
     "output_type": "stream",
     "text": [
      "[1, 2, 3]\n"
     ]
    }
   ],
   "source": [
    "a,*the_rest = range(4)\n",
    "print(the_rest)"
   ]
  },
  {
   "cell_type": "code",
   "execution_count": 1,
   "metadata": {
    "collapsed": false
   },
   "outputs": [
    {
     "name": "stdout",
     "output_type": "stream",
     "text": [
      "(2, 3, 4)\n"
     ]
    }
   ],
   "source": [
    "def func(arg1, *args):\n",
    "        print(args)\n",
    "func(1, 2, 3, 4)"
   ]
  },
  {
   "cell_type": "code",
   "execution_count": 3,
   "metadata": {
    "collapsed": false
   },
   "outputs": [
    {
     "name": "stdout",
     "output_type": "stream",
     "text": [
      "1\n",
      "{'two': 2, 'three': 3}\n"
     ]
    }
   ],
   "source": [
    "def foo(arg1, **kwargs):\n",
    "    print(arg1)\n",
    "    print(kwargs)\n",
    "        \n",
    "foo(1,two=2, three=3)"
   ]
  },
  {
   "cell_type": "code",
   "execution_count": 6,
   "metadata": {
    "collapsed": false
   },
   "outputs": [
    {
     "name": "stdout",
     "output_type": "stream",
     "text": [
      "6\n"
     ]
    }
   ],
   "source": [
    "def bar(arg1, arg2, arg3):\n",
    "    print(arg1+arg2+arg3)\n",
    "\n",
    "l = [1, 2, 3]\n",
    "bar(*l)"
   ]
  },
  {
   "cell_type": "code",
   "execution_count": 8,
   "metadata": {
    "collapsed": false
   },
   "outputs": [
    {
     "name": "stdout",
     "output_type": "stream",
     "text": [
      "Mike is 28 years old\n"
     ]
    }
   ],
   "source": [
    "def print_person(name, age):\n",
    "    print('{} is {} years old'.format(name, age))\n",
    "\n",
    "person = {'name': 'Mike', 'age': 28}\n",
    "print_person(**person)"
   ]
  },
  {
   "cell_type": "code",
   "execution_count": 11,
   "metadata": {
    "collapsed": false
   },
   "outputs": [
    {
     "name": "stdout",
     "output_type": "stream",
     "text": [
      "['bannana', 'apple']\n"
     ]
    }
   ],
   "source": [
    "def list_fruits():\n",
    "    fruits = ['bannana', 'apple']\n",
    "    def show():\n",
    "        print(fruits)\n",
    "        \n",
    "    return show\n",
    "\n",
    "fruit_list = list_fruits()\n",
    "fruit_list()"
   ]
  },
  {
   "cell_type": "code",
   "execution_count": 24,
   "metadata": {
    "collapsed": false
   },
   "outputs": [
    {
     "name": "stdout",
     "output_type": "stream",
     "text": [
      "The following Toyota models are availble:\n",
      "Corola - 7\n",
      "Auris - 5\n",
      "Camary - 10 The following Toyota models are availble:\n",
      "Corola - 7\n",
      "Auris - 5\n",
      "Camary - 10\n"
     ]
    }
   ],
   "source": [
    "def inventory_str(brand, **invetory):\n",
    "    l = ['The following {} models are availble:'.format(brand)]\n",
    "    for model, num in invetory.items():\n",
    "        l.append('{} - {}'.format(model.title(),num))\n",
    "    return '\\n'.join(l)\n",
    "\n",
    "expected_result = '''The following Toyota models are availble:\n",
    "Corola - 7\n",
    "Auris - 5\n",
    "Camary - 10'''\n",
    "\n",
    "result = inventory_str('Toyota', camary=10, auris=5, corola=7)\n",
    "assert result == expected_result"
   ]
  },
  {
   "cell_type": "code",
   "execution_count": 37,
   "metadata": {
    "collapsed": false
   },
   "outputs": [
    {
     "name": "stdout",
     "output_type": "stream",
     "text": [
      "0 Tim\n",
      "1 Tom\n",
      "2 Tal\n"
     ]
    }
   ],
   "source": [
    "# implement list_studets\n",
    "def list_students(*args):\n",
    "    l = []\n",
    "    for i, v in enumerate(reversed(args)):\n",
    "        l.append('{} {}'.format(i, v.title()))\n",
    "    return '\\n'.join(l)\n",
    "        \n",
    "expected_result = '''0 Tim\n",
    "1 Tom\n",
    "2 Tal'''\n",
    "assert expected_result == list_students('tal', 'tom', 'tim')"
   ]
  },
  {
   "cell_type": "code",
   "execution_count": null,
   "metadata": {
    "collapsed": true
   },
   "outputs": [],
   "source": [
    "danny = Person('Danny', 'male', datetime.date(1975, 3, 12))\n",
    "benny = Person('Benny', 'male', datetime.da`te(1989, 8, 10))\n",
    "bracha = Person('Bracha', 'female', datetime.date(1966, 6, 6))"
   ]
  },
  {
   "cell_type": "code",
   "execution_count": 52,
   "metadata": {
    "collapsed": false
   },
   "outputs": [
    {
     "name": "stdout",
     "output_type": "stream",
     "text": [
      "7599 days of peace\n"
     ]
    },
    {
     "data": {
      "text/plain": [
       "datetime.date(2015, 10, 24)"
      ]
     },
     "execution_count": 52,
     "metadata": {},
     "output_type": "execute_result"
    }
   ],
   "source": [
    "import datetime\n",
    "\n",
    "ww1_end = datetime.date(1918, 11, 11)\n",
    "ww2_start = datetime.date(1939, 9, 1)\n",
    "europe_at_peace = ww2_start - ww1_end\n",
    "\n",
    "print('{} days of peace'.format(europe_at_peace.days))\n",
    "\n",
    "datetime.date.today() "
   ]
  },
  {
   "cell_type": "code",
   "execution_count": 43,
   "metadata": {
    "collapsed": false
   },
   "outputs": [
    {
     "data": {
      "text/plain": [
       "14906"
      ]
     },
     "execution_count": 43,
     "metadata": {},
     "output_type": "execute_result"
    }
   ],
   "source": [
    "time_from_1975 = datetime.date.date() - datetime.date(1975, 1, 1)\n",
    "time_from_1975.`"
   ]
  },
  {
   "cell_type": "code",
   "execution_count": null,
   "metadata": {
    "collapsed": true
   },
   "outputs": [],
   "source": []
  }
 ],
 "metadata": {
  "kernelspec": {
   "display_name": "Python 3",
   "language": "python",
   "name": "python3"
  },
  "language_info": {
   "codemirror_mode": {
    "name": "ipython",
    "version": 3
   },
   "file_extension": ".py",
   "mimetype": "text/x-python",
   "name": "python",
   "nbconvert_exporter": "python",
   "pygments_lexer": "ipython3",
   "version": "3.5.0"
  }
 },
 "nbformat": 4,
 "nbformat_minor": 0
}
