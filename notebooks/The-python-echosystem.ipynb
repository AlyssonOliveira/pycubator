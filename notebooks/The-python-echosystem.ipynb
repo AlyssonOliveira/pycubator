{
 "cells": [
  {
   "cell_type": "markdown",
   "metadata": {},
   "source": [
    "# The Python Ecosystem: pypi, easy_install, pip\n",
    "The python package index (\"pypi\", or \"the cheeseshop\") includes more than 50,000 packages created by the community: https://pypi.python.org/pypi\n",
    "\n",
    "To install them, we use the command line pip package manager.\n",
    "pip is bundled with python 2.7.9 and above. (Refer to the installation instructions to install pip on older versions of python.)\n",
    "\n",
    "pip can be now used to install packages found online on pypi, for example:  \n",
    "`pip install requests`  \n",
    "The packages are installed under lib/site-packages under your python directory.\n",
    "\n",
    "pip handles packge dependency management. To view a list of installed packages type:  \n",
    "`pip freeze`\n",
    "\n",
    "pip can also uninstall packages:  \n",
    "`pip uninstall requests`\n",
    "\n",
    "Use the following to dump the list of all installed packages and versions to a file:  \n",
    "`pip freeze > requirements.txt`\n",
    "\n",
    "To install all packages listed in the file (probably on a different machine) use:  \n",
    "`pip install -r requirements.txt`"
   ]
  },
  {
   "cell_type": "markdown",
   "metadata": {},
   "source": [
    "### Requests package excercise! \n",
    "#### Get my IP\n",
    "Use [requests](http://docs.python-requests.org/en/latest/) to show your IP as seen by websites from http://curlmyip.com/"
   ]
  },
  {
   "cell_type": "markdown",
   "metadata": {},
   "source": [
    "#### What is the weather?\n",
    "Use requests to get the weather into a python dictionary: http://api.openweathermap.org/data/2.5/weather?q=benebrak,IL\n",
    "\n",
    "Lookout, you will recieve the response in a `JSON` format, how do you work with it?\n",
    "\n",
    "Display:\n",
    "- current weather in BeniBrak\n",
    "- Length of day, from sunrise to sunset in this format (h:m:s -> 5:9:13). Round the mili-secondes to it's closest secondes.\n"
   ]
  },
  {
   "cell_type": "markdown",
   "metadata": {},
   "source": [
    "#### Earthquakes!\n",
    "The following geojson feed returns the list of recent earthquakes: http://earthquake.usgs.gov/earthquakes/feed/v1.0/summary/4.5_day.geojson (see [more information](http://earthquake.usgs.gov/earthquakes/feed/v1.0/geojson.php))\n",
    "\n",
    "Using the feed, display the list of 10 earthquakes closest to Israel, showing their distance, magnitude and how long ago they happend."
   ]
  }
 ],
 "metadata": {
  "kernelspec": {
   "display_name": "Python 3",
   "language": "python",
   "name": "python3"
  },
  "language_info": {
   "codemirror_mode": {
    "name": "ipython",
    "version": 3
   },
   "file_extension": ".py",
   "mimetype": "text/x-python",
   "name": "python",
   "nbconvert_exporter": "python",
   "pygments_lexer": "ipython3",
   "version": "3.4.0"
  }
 },
 "nbformat": 4,
 "nbformat_minor": 0
}
