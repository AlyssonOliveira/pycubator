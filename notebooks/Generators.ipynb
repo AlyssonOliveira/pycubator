{
 "cells": [
  {
   "cell_type": "markdown",
   "metadata": {},
   "source": [
    "# Generators\n",
    "Generators are built on top of the iteartor concept.\n",
    "\n",
    "## Iterators\n",
    "Iterator objects represents a sequence of data. The iterator specification (protocol) includes 2 methods each iterator object must implement:\n",
    "- `__iter__`: return the object itself.\n",
    "- `__next__`: returns the next object in the sequence, raises StopIteration if empty."
   ]
  },
  {
   "cell_type": "code",
   "execution_count": 3,
   "metadata": {
    "collapsed": false
   },
   "outputs": [
    {
     "name": "stdout",
     "output_type": "stream",
     "text": [
      "calling next (i=0)\n",
      "0\n",
      "calling next (i=1)\n",
      "1\n",
      "calling next (i=2)\n",
      "2\n",
      "calling next (i=3)\n"
     ]
    }
   ],
   "source": [
    "class iter_range:\n",
    "\n",
    "    def __init__(self, n):\n",
    "        self.i, self.n = 0, n\n",
    "    \n",
    "    def __iter__(self): return self\n",
    "    \n",
    "    def  __next__ (self):\n",
    "        print('calling next (i={})'.format(self.i))\n",
    "        if self.i < self.n:\n",
    "            i = self.i\n",
    "            self.i += 1\n",
    "            return i\n",
    "        else:\n",
    "            raise StopIteration()\n",
    "\n",
    "for i in iter_range(3):\n",
    "    print(i)"
   ]
  },
  {
   "cell_type": "markdown",
   "metadata": {},
   "source": [
    "## Generators\n",
    "Generators helps us generate iterators easily. A generator is essentially a functions that contains a yield statement in it's body."
   ]
  },
  {
   "cell_type": "code",
   "execution_count": 5,
   "metadata": {
    "collapsed": true
   },
   "outputs": [],
   "source": [
    "def gen_range(n):\n",
    "    i = 0\n",
    "    while i < n:\n",
    "        yield i\n",
    "        i += 1"
   ]
  },
  {
   "cell_type": "code",
   "execution_count": 6,
   "metadata": {
    "collapsed": false
   },
   "outputs": [
    {
     "name": "stdout",
     "output_type": "stream",
     "text": [
      "0 1 2 "
     ]
    }
   ],
   "source": [
    "it = gen_range(3)\n",
    "for i in it:\n",
    "    print(i, end=' ')"
   ]
  },
  {
   "cell_type": "markdown",
   "metadata": {},
   "source": [
    "### Show us more!"
   ]
  },
  {
   "cell_type": "markdown",
   "metadata": {},
   "source": [
    "ok, so here is an \"old school\" example of random number list generation:"
   ]
  },
  {
   "cell_type": "code",
   "execution_count": 24,
   "metadata": {
    "collapsed": false
   },
   "outputs": [
    {
     "name": "stdout",
     "output_type": "stream",
     "text": [
      "32 60 1 96 80 1 31 15 62 61 78 6 41 39 1 76 75 98 36 30 83 35 89 15 95 10 6 41 54 93 62 94 32 58 79 51 24 38 13 70 21 41 73 75 98 4 64 62 77 99 47 76 86 82 9 94 46 7 5 92 86 25 3 43 "
     ]
    }
   ],
   "source": [
    "import random\n",
    "def random_numbers_old_school(n):\n",
    "    l = []\n",
    "    for _ in range(n):\n",
    "        l.append(random.randint(1, 100))\n",
    "    return l\n",
    "\n",
    "for i in get_random_numbers(100):\n",
    "    print(i, end=' ')\n",
    "    if i == 43:\n",
    "        breakget_random_numbers"
   ]
  },
  {
   "cell_type": "markdown",
   "metadata": {},
   "source": [
    "Now the generator way:"
   ]
  },
  {
   "cell_type": "code",
   "execution_count": 25,
   "metadata": {
    "collapsed": false
   },
   "outputs": [
    {
     "name": "stdout",
     "output_type": "stream",
     "text": [
      "100 51 41 97 4 11 84 59 15 99 77 99 12 19 31 69 16 2 22 62 4 3 18 72 40 13 31 28 25 97 74 87 59 61 99 42 46 53 41 7 76 67 14 59 50 59 60 16 52 40 6 58 4 28 74 11 90 25 27 95 75 95 68 19 33 48 46 13 56 15 24 66 17 76 28 2 53 23 34 92 98 90 4 61 69 83 30 31 38 9 67 55 94 61 20 5 67 11 37 64 23 7 56 63 33 33 55 50 9 15 46 47 84 19 3 95 41 71 85 95 72 23 73 67 14 97 1 96 1 9 28 45 48 16 88 10 84 57 33 93 87 98 77 97 24 23 80 14 63 4 47 25 96 49 35 80 44 39 31 76 55 74 12 32 79 30 15 43 "
     ]
    }
   ],
   "source": [
    "def random_numbers_generator():\n",
    "    while True:\n",
    "        yield random.randint(1, 100)\n",
    "\n",
    "for i in random_numbers_generator():\n",
    "    print(i, end=' ')\n",
    "    if i == 43:\n",
    "        break"
   ]
  },
  {
   "cell_type": "markdown",
   "metadata": {},
   "source": [
    "**Two differences (advantages in most cases):**\n",
    "1. Lazy - doesn't pre-calculate the whole list.\n",
    "2. Can run forever, no need to give a range."
   ]
  },
  {
   "cell_type": "markdown",
   "metadata": {},
   "source": [
    "### Practice!"
   ]
  },
  {
   "cell_type": "markdown",
   "metadata": {},
   "source": [
    "Write a simple generator that accumulates total values from a given sequence.  \n",
    "This:\n",
    "```python\n",
    "def accumulate(data):\n",
    "    # ==============================\n",
    "    # --- Your code here! ----------\n",
    "    # ==============================\n",
    "\n",
    "for i, total in accumulate(range(1, 11)):\n",
    "    print(i, total)\n",
    "\n",
    "print()\n",
    "\n",
    "for i, total in accumulate([100, 10, 5, 200]):\n",
    "    print(i, total)\n",
    "```\n",
    "Should print:\n",
    "```python\n",
    "1 1\n",
    "2 3\n",
    "3 6\n",
    "4 10\n",
    "5 15\n",
    "6 21\n",
    "7 28\n",
    "8 36\n",
    "9 45\n",
    "10 55\n",
    "\n",
    "100 100\n",
    "10 110\n",
    "5 115\n",
    "200 315\n",
    "```"
   ]
  },
  {
   "cell_type": "markdown",
   "metadata": {},
   "source": [
    "### Practice More!"
   ]
  },
  {
   "cell_type": "markdown",
   "metadata": {},
   "source": [
    "Create a generator that yields integers entered from the command line:\n",
    "```python\n",
    "def intputs(prompt=\">> \", invalid_message=\"Invalid input\"):\n",
    "    \"\"\"Generates a sequence of integers read from standard input, one per row,\n",
    "    until an empty line is reached.  For non-numeric inputs, displays \n",
    "    invalid_input to the users, and continues input.\n",
    "    \"\"\"\n",
    "    # ----- YOUR CODE HERE! ----------------------\n",
    "\n",
    "\n",
    "for x in intputs():\n",
    "    print(x if x % 7 else \"Boom!\")\n",
    "print(\"Done!\")\n",
    "```\n",
    "\n",
    "Example input and output:\n",
    "```python\n",
    ">> 5\n",
    "5\n",
    ">> 10\n",
    "10\n",
    ">> 14\n",
    "Boom!\n",
    ">> 14x\n",
    "Invalid input\n",
    ">> hello\n",
    "Invalid input\n",
    ">> 21\n",
    "Boom!\n",
    ">> 70\n",
    "Boom!\n",
    ">> 2\n",
    "2\n",
    ">>\n",
    "Done!\n",
    "```"
   ]
  },
  {
   "cell_type": "markdown",
   "metadata": {},
   "source": [
    "### Even more practice!"
   ]
  },
  {
   "cell_type": "markdown",
   "metadata": {},
   "source": [
    "Create a generator that reads files that follow a certain pattern:\n",
    "\n",
    "```python \n",
    "def examine_files(pattern):\n",
    "    \"\"\"Generates tuples (filename, lineno, text) from all files matching the glob pattern specified by pattern\"\"\"\n",
    "\n",
    "for filename, lineno, text in examine_files(\"*.py\"):\n",
    "    s_text = text.split()\n",
    "    if 'def' in s_text:\n",
    "        print('Found function in {} line #{}: {}'.format(filename, lineno, text.strip()))\n",
    "    if 'class' in s_text:\n",
    "        print('Found class in {} line #{}: {}'.format(filename, lineno, text.strip()))\n",
    "```\n",
    "**Tip**: use [iglob](https://docs.python.org/3.5/library/glob.html#glob.iglob)  \n",
    "**Bonus**: use a dictionary to define what are we looking for and itearate over it. This way it will be easier to add more searches."
   ]
  }
 ],
 "metadata": {
  "kernelspec": {
   "display_name": "Python 3",
   "language": "python",
   "name": "python3"
  },
  "language_info": {
   "codemirror_mode": {
    "name": "ipython",
    "version": 3
   },
   "file_extension": ".py",
   "mimetype": "text/x-python",
   "name": "python",
   "nbconvert_exporter": "python",
   "pygments_lexer": "ipython3",
   "version": "3.4.3"
  }
 },
 "nbformat": 4,
 "nbformat_minor": 0
}
